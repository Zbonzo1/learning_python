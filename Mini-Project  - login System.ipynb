{
 "cells": [
  {
   "cell_type": "markdown",
   "id": "2d15db2f",
   "metadata": {},
   "source": [
    "# Designing a User Login System"
   ]
  },
  {
   "cell_type": "code",
   "execution_count": null,
   "id": "a78efcad",
   "metadata": {},
   "outputs": [],
   "source": [
    "# Sign Up Page\n",
    "\n",
    "user_password = input(\"Please enter new password: \")\n",
    "print(\"password has been entered successful\")"
   ]
  },
  {
   "cell_type": "code",
   "execution_count": null,
   "id": "adb99963",
   "metadata": {},
   "outputs": [],
   "source": [
    "# Login Page\n",
    "\n",
    "input_password = input(\"Please enter password: \")\n",
    "attempts = 1\n",
    "max_attempts = 3\n",
    "\n",
    "while input_password != user_password:\n",
    "    if attempts < max_attempts:\n",
    "        attempts = attempts + 1\n",
    "        print(\"Please password is incorrect. Try again\")\n",
    "        input_password = input(\"Please re-enter password: \")\n",
    "        \n",
    "    else:\n",
    "        print(\"Your account is block due to login limit\")\n",
    "        break\n",
    "        \n",
    "else:\n",
    "    print(\"Login successful\")\n",
    "    \n"
   ]
  },
  {
   "cell_type": "code",
   "execution_count": null,
   "id": "dac9e18f",
   "metadata": {},
   "outputs": [],
   "source": []
  }
 ],
 "metadata": {
  "kernelspec": {
   "display_name": "Python 3 (ipykernel)",
   "language": "python",
   "name": "python3"
  },
  "language_info": {
   "codemirror_mode": {
    "name": "ipython",
    "version": 3
   },
   "file_extension": ".py",
   "mimetype": "text/x-python",
   "name": "python",
   "nbconvert_exporter": "python",
   "pygments_lexer": "ipython3",
   "version": "3.11.4"
  }
 },
 "nbformat": 4,
 "nbformat_minor": 5
}
