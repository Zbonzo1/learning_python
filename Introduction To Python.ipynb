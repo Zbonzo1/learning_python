{
 "cells": [
  {
   "cell_type": "markdown",
   "id": "adce58b8",
   "metadata": {},
   "source": [
    "# Basic Operators - Arithmetics"
   ]
  },
  {
   "cell_type": "code",
   "execution_count": 1,
   "id": "97b3f4b5",
   "metadata": {},
   "outputs": [
    {
     "data": {
      "text/plain": [
       "13"
      ]
     },
     "execution_count": 1,
     "metadata": {},
     "output_type": "execute_result"
    }
   ],
   "source": [
    "# you can perform addition, multiple, substration and division\n",
    "\n",
    "8+5 #addition"
   ]
  },
  {
   "cell_type": "code",
   "execution_count": 2,
   "id": "8a79f4b6",
   "metadata": {},
   "outputs": [
    {
     "data": {
      "text/plain": [
       "-8"
      ]
     },
     "execution_count": 2,
     "metadata": {},
     "output_type": "execute_result"
    }
   ],
   "source": [
    "15-23 #sub"
   ]
  },
  {
   "cell_type": "code",
   "execution_count": 3,
   "id": "2ae77bd5",
   "metadata": {},
   "outputs": [
    {
     "data": {
      "text/plain": [
       "255"
      ]
     },
     "execution_count": 3,
     "metadata": {},
     "output_type": "execute_result"
    }
   ],
   "source": [
    "85*3  #multipli"
   ]
  },
  {
   "cell_type": "code",
   "execution_count": 4,
   "id": "2db52691",
   "metadata": {},
   "outputs": [
    {
     "data": {
      "text/plain": [
       "46656"
      ]
     },
     "execution_count": 4,
     "metadata": {},
     "output_type": "execute_result"
    }
   ],
   "source": [
    "6**6   # power"
   ]
  },
  {
   "cell_type": "code",
   "execution_count": 5,
   "id": "f68ea763",
   "metadata": {},
   "outputs": [
    {
     "data": {
      "text/plain": [
       "25"
      ]
     },
     "execution_count": 5,
     "metadata": {},
     "output_type": "execute_result"
    }
   ],
   "source": [
    "5**2"
   ]
  },
  {
   "cell_type": "code",
   "execution_count": 6,
   "id": "1032a7b4",
   "metadata": {},
   "outputs": [
    {
     "data": {
      "text/plain": [
       "9.0"
      ]
     },
     "execution_count": 6,
     "metadata": {},
     "output_type": "execute_result"
    }
   ],
   "source": [
    "81**0.5 #square root"
   ]
  },
  {
   "cell_type": "code",
   "execution_count": 7,
   "id": "c80a8047",
   "metadata": {},
   "outputs": [
    {
     "data": {
      "text/plain": [
       "True"
      ]
     },
     "execution_count": 7,
     "metadata": {},
     "output_type": "execute_result"
    }
   ],
   "source": [
    "18 >16"
   ]
  },
  {
   "cell_type": "code",
   "execution_count": 8,
   "id": "15098a66",
   "metadata": {},
   "outputs": [
    {
     "data": {
      "text/plain": [
       "False"
      ]
     },
     "execution_count": 8,
     "metadata": {},
     "output_type": "execute_result"
    }
   ],
   "source": [
    "3 < 2"
   ]
  },
  {
   "cell_type": "code",
   "execution_count": 9,
   "id": "38276e24",
   "metadata": {},
   "outputs": [
    {
     "data": {
      "text/plain": [
       "int"
      ]
     },
     "execution_count": 9,
     "metadata": {},
     "output_type": "execute_result"
    }
   ],
   "source": [
    "# checking Data types\n",
    "\n",
    "type(2)"
   ]
  },
  {
   "cell_type": "code",
   "execution_count": 10,
   "id": "2a9e4ca8",
   "metadata": {},
   "outputs": [
    {
     "data": {
      "text/plain": [
       "float"
      ]
     },
     "execution_count": 10,
     "metadata": {},
     "output_type": "execute_result"
    }
   ],
   "source": [
    "type(15.0)"
   ]
  },
  {
   "cell_type": "code",
   "execution_count": 11,
   "id": "08a2b899",
   "metadata": {},
   "outputs": [
    {
     "data": {
      "text/plain": [
       "str"
      ]
     },
     "execution_count": 11,
     "metadata": {},
     "output_type": "execute_result"
    }
   ],
   "source": [
    "type('man')"
   ]
  },
  {
   "cell_type": "code",
   "execution_count": 12,
   "id": "7c7dad2d",
   "metadata": {},
   "outputs": [
    {
     "data": {
      "text/plain": [
       "bool"
      ]
     },
     "execution_count": 12,
     "metadata": {},
     "output_type": "execute_result"
    }
   ],
   "source": [
    "type(True)"
   ]
  },
  {
   "cell_type": "code",
   "execution_count": 13,
   "id": "61609ed0",
   "metadata": {},
   "outputs": [
    {
     "data": {
      "text/plain": [
       "'5.0'"
      ]
     },
     "execution_count": 13,
     "metadata": {},
     "output_type": "execute_result"
    }
   ],
   "source": [
    "5.0\n",
    "str(5.0)"
   ]
  },
  {
   "cell_type": "markdown",
   "id": "b6337b1d",
   "metadata": {},
   "source": [
    "Concatenation"
   ]
  },
  {
   "cell_type": "code",
   "execution_count": 14,
   "id": "94d201af",
   "metadata": {},
   "outputs": [
    {
     "data": {
      "text/plain": [
       "'This is good gpa 3.6'"
      ]
     },
     "execution_count": 14,
     "metadata": {},
     "output_type": "execute_result"
    }
   ],
   "source": [
    "'This is good gpa ' + str(3.60)  "
   ]
  },
  {
   "cell_type": "code",
   "execution_count": 15,
   "id": "094b2740",
   "metadata": {},
   "outputs": [
    {
     "data": {
      "text/plain": [
       "8"
      ]
     },
     "execution_count": 15,
     "metadata": {},
     "output_type": "execute_result"
    }
   ],
   "source": [
    "int(8.9)"
   ]
  },
  {
   "cell_type": "markdown",
   "id": "608a76cb",
   "metadata": {},
   "source": [
    "Variables"
   ]
  },
  {
   "cell_type": "code",
   "execution_count": 16,
   "id": "93ed0e3b",
   "metadata": {},
   "outputs": [
    {
     "data": {
      "text/plain": [
       "70"
      ]
     },
     "execution_count": 16,
     "metadata": {},
     "output_type": "execute_result"
    }
   ],
   "source": [
    " a = 50\n",
    " b = 20\n",
    "\n",
    "a+b"
   ]
  },
  {
   "cell_type": "code",
   "execution_count": 17,
   "id": "9a4f47e4",
   "metadata": {},
   "outputs": [
    {
     "data": {
      "text/plain": [
       "1300"
      ]
     },
     "execution_count": 17,
     "metadata": {},
     "output_type": "execute_result"
    }
   ],
   "source": [
    "2*a + 3*(b**2)"
   ]
  },
  {
   "cell_type": "code",
   "execution_count": 18,
   "id": "dec3a5fd",
   "metadata": {},
   "outputs": [
    {
     "name": "stdout",
     "output_type": "stream",
     "text": [
      "kofi is 45 years and today is a holiday\n"
     ]
    }
   ],
   "source": [
    "age = 45\n",
    "monday = 'is a holiday'\n",
    "\n",
    "story = 'kofi is ' + str(age) + ' years and today ' + monday\n",
    "\n",
    "print(story)"
   ]
  },
  {
   "cell_type": "code",
   "execution_count": 19,
   "id": "ff30321e",
   "metadata": {},
   "outputs": [
    {
     "name": "stdout",
     "output_type": "stream",
     "text": [
      " This is an introduction course to python\n"
     ]
    }
   ],
   "source": [
    "title = ' This is an introduction course to python'\n",
    "\n",
    "print(title)"
   ]
  },
  {
   "cell_type": "code",
   "execution_count": null,
   "id": "8f3745c2",
   "metadata": {},
   "outputs": [],
   "source": []
  },
  {
   "cell_type": "markdown",
   "id": "83cd1625",
   "metadata": {},
   "source": [
    "Python Strings"
   ]
  },
  {
   "cell_type": "code",
   "execution_count": 20,
   "id": "2ffb0c2d",
   "metadata": {},
   "outputs": [],
   "source": [
    "about_zion = 'my name is zion bonzo and I am learning data analysis with python'"
   ]
  },
  {
   "cell_type": "code",
   "execution_count": 21,
   "id": "d410c7f9",
   "metadata": {},
   "outputs": [
    {
     "data": {
      "text/plain": [
       "65"
      ]
     },
     "execution_count": 21,
     "metadata": {},
     "output_type": "execute_result"
    }
   ],
   "source": [
    "len(about_zion)"
   ]
  },
  {
   "cell_type": "code",
   "execution_count": 22,
   "id": "4b533895",
   "metadata": {},
   "outputs": [
    {
     "data": {
      "text/plain": [
       "'My Name Is Zion Bonzo And I Am Learning Data Analysis With Python'"
      ]
     },
     "execution_count": 22,
     "metadata": {},
     "output_type": "execute_result"
    }
   ],
   "source": [
    "about_zion.title()"
   ]
  },
  {
   "cell_type": "code",
   "execution_count": 23,
   "id": "5455cbc0",
   "metadata": {},
   "outputs": [
    {
     "data": {
      "text/plain": [
       "'MY NAME IS ZION BONZO AND I AM LEARNING DATA ANALYSIS WITH PYTHON'"
      ]
     },
     "execution_count": 23,
     "metadata": {},
     "output_type": "execute_result"
    }
   ],
   "source": [
    "about_zion.upper()"
   ]
  },
  {
   "cell_type": "code",
   "execution_count": 24,
   "id": "0ccc9bb0",
   "metadata": {},
   "outputs": [
    {
     "data": {
      "text/plain": [
       "'my name is zion bonzo and i am learning data analysis with python'"
      ]
     },
     "execution_count": 24,
     "metadata": {},
     "output_type": "execute_result"
    }
   ],
   "source": [
    "about_zion.lower()"
   ]
  },
  {
   "cell_type": "code",
   "execution_count": 25,
   "id": "4cbdf094",
   "metadata": {},
   "outputs": [
    {
     "data": {
      "text/plain": [
       "'My name is zion bonzo and i am learning data analysis with python'"
      ]
     },
     "execution_count": 25,
     "metadata": {},
     "output_type": "execute_result"
    }
   ],
   "source": [
    "about_zion.capitalize()"
   ]
  },
  {
   "cell_type": "code",
   "execution_count": 26,
   "id": "aa83c758",
   "metadata": {},
   "outputs": [
    {
     "data": {
      "text/plain": [
       "5"
      ]
     },
     "execution_count": 26,
     "metadata": {},
     "output_type": "execute_result"
    }
   ],
   "source": [
    "about_zion.count('i')"
   ]
  },
  {
   "cell_type": "code",
   "execution_count": 27,
   "id": "1c44273d",
   "metadata": {},
   "outputs": [
    {
     "name": "stdout",
     "output_type": "stream",
     "text": [
      "['my', 'name', 'is', 'zion', 'bonzo', 'and', 'I', 'am', 'learning', 'data', 'analysis', 'with', 'python']\n"
     ]
    }
   ],
   "source": [
    "print(about_zion.split(' '))"
   ]
  },
  {
   "cell_type": "markdown",
   "id": "0fb4fb05",
   "metadata": {},
   "source": [
    "Python Data Structures"
   ]
  },
  {
   "cell_type": "code",
   "execution_count": 28,
   "id": "d499a955",
   "metadata": {},
   "outputs": [],
   "source": [
    "# PYTHON LISTS\n",
    "\n",
    "list_take_any_data_type = [5, 2.6, 'man',True, \"king\"]\n",
    "\n",
    "data_tools = ['Excel', 'Python', 'Tableau', 'Power BI','Domo', 'Google Sheet']\n",
    "\n",
    "numbers = [-8,-75, 85,15,8.0, 62,70,40,35,56,89]\n",
    "\n",
    "string = ['man','girl','boy','woman','gender']\n"
   ]
  },
  {
   "cell_type": "code",
   "execution_count": 29,
   "id": "5af2b7a1",
   "metadata": {},
   "outputs": [
    {
     "name": "stdout",
     "output_type": "stream",
     "text": [
      "['Excel', 'Python', 'Tableau', 'Power BI', 'Domo', 'Google Sheet']\n"
     ]
    }
   ],
   "source": [
    "print(data_tools)"
   ]
  },
  {
   "cell_type": "code",
   "execution_count": 30,
   "id": "8ace97a1",
   "metadata": {},
   "outputs": [
    {
     "name": "stdout",
     "output_type": "stream",
     "text": [
      "[5, 10, 85, 15, 8.0, 62, 70, 40, 35, 56, 89]\n"
     ]
    }
   ],
   "source": [
    "#upating/modifying list\n",
    "\n",
    "numbers[0] = 5\n",
    "numbers[1] = 10\n",
    "\n",
    "print(numbers)"
   ]
  },
  {
   "cell_type": "code",
   "execution_count": 31,
   "id": "0362f3bc",
   "metadata": {},
   "outputs": [
    {
     "data": {
      "text/plain": [
       "'Tableau'"
      ]
     },
     "execution_count": 31,
     "metadata": {},
     "output_type": "execute_result"
    }
   ],
   "source": [
    "data_tools[2]    #indexing"
   ]
  },
  {
   "cell_type": "code",
   "execution_count": 32,
   "id": "a2aebd8c",
   "metadata": {},
   "outputs": [
    {
     "data": {
      "text/plain": [
       "5"
      ]
     },
     "execution_count": 32,
     "metadata": {},
     "output_type": "execute_result"
    }
   ],
   "source": [
    "numbers[0]"
   ]
  },
  {
   "cell_type": "code",
   "execution_count": 33,
   "id": "8f0272a5",
   "metadata": {},
   "outputs": [
    {
     "data": {
      "text/plain": [
       "'boy'"
      ]
     },
     "execution_count": 33,
     "metadata": {},
     "output_type": "execute_result"
    }
   ],
   "source": [
    "string[2]"
   ]
  },
  {
   "cell_type": "code",
   "execution_count": 34,
   "id": "dd2b4e42",
   "metadata": {},
   "outputs": [],
   "source": [
    "string[2] = 'boys'"
   ]
  },
  {
   "cell_type": "code",
   "execution_count": 35,
   "id": "d60a93c2",
   "metadata": {},
   "outputs": [],
   "source": [
    "string[1] = 'girls'\n",
    "string[0] = 'men'\n",
    "string[3] = 'women'"
   ]
  },
  {
   "cell_type": "code",
   "execution_count": 36,
   "id": "a4eeb89d",
   "metadata": {},
   "outputs": [
    {
     "name": "stdout",
     "output_type": "stream",
     "text": [
      "['men', 'girls', 'boys', 'women', 'gender']\n"
     ]
    }
   ],
   "source": [
    "print(string)"
   ]
  },
  {
   "cell_type": "code",
   "execution_count": 37,
   "id": "0071f2c2",
   "metadata": {},
   "outputs": [
    {
     "data": {
      "text/plain": [
       "[85, 15, 8.0, 62]"
      ]
     },
     "execution_count": 37,
     "metadata": {},
     "output_type": "execute_result"
    }
   ],
   "source": [
    "# Slicing lists\n",
    "\n",
    "numbers[2:6]\n"
   ]
  },
  {
   "cell_type": "code",
   "execution_count": 38,
   "id": "c89d980a",
   "metadata": {},
   "outputs": [
    {
     "data": {
      "text/plain": [
       "[8.0, 62, 70, 40, 35, 56, 89]"
      ]
     },
     "execution_count": 38,
     "metadata": {},
     "output_type": "execute_result"
    }
   ],
   "source": [
    "numbers[4:]"
   ]
  },
  {
   "cell_type": "code",
   "execution_count": 39,
   "id": "4a9af4bb",
   "metadata": {},
   "outputs": [
    {
     "data": {
      "text/plain": [
       "[5, 10, 85]"
      ]
     },
     "execution_count": 39,
     "metadata": {},
     "output_type": "execute_result"
    }
   ],
   "source": [
    "numbers[:3]"
   ]
  },
  {
   "cell_type": "code",
   "execution_count": 40,
   "id": "50e59ff5",
   "metadata": {},
   "outputs": [
    {
     "data": {
      "text/plain": [
       "[10, 8.0, 40, 89]"
      ]
     },
     "execution_count": 40,
     "metadata": {},
     "output_type": "execute_result"
    }
   ],
   "source": [
    "numbers[1:11:3]"
   ]
  },
  {
   "cell_type": "markdown",
   "id": "b002ecdf",
   "metadata": {},
   "source": [
    "List Methods"
   ]
  },
  {
   "cell_type": "code",
   "execution_count": 41,
   "id": "11c8bc7d",
   "metadata": {},
   "outputs": [
    {
     "name": "stdout",
     "output_type": "stream",
     "text": [
      "['Excel', 'Python', 'Tableau', 'Power BI', 'Domo', 'Google Sheet']\n"
     ]
    }
   ],
   "source": [
    "print(data_tools)"
   ]
  },
  {
   "cell_type": "code",
   "execution_count": 42,
   "id": "e0142d73",
   "metadata": {},
   "outputs": [],
   "source": [
    "data_tools.append('Spss')"
   ]
  },
  {
   "cell_type": "code",
   "execution_count": 43,
   "id": "6c7ec1b4",
   "metadata": {},
   "outputs": [],
   "source": [
    "data_tools.insert(6,'Stata')"
   ]
  },
  {
   "cell_type": "code",
   "execution_count": 44,
   "id": "c2b886d6",
   "metadata": {},
   "outputs": [
    {
     "name": "stdout",
     "output_type": "stream",
     "text": [
      "['Excel', 'Python', 'Tableau', 'Power BI', 'Domo', 'Google Sheet', 'Stata', 'Spss']\n"
     ]
    }
   ],
   "source": [
    "print(data_tools)"
   ]
  },
  {
   "cell_type": "code",
   "execution_count": 45,
   "id": "69d36791",
   "metadata": {},
   "outputs": [
    {
     "data": {
      "text/plain": [
       "'Spss'"
      ]
     },
     "execution_count": 45,
     "metadata": {},
     "output_type": "execute_result"
    }
   ],
   "source": [
    "data_tools.pop()"
   ]
  },
  {
   "cell_type": "code",
   "execution_count": 46,
   "id": "d2163bea",
   "metadata": {},
   "outputs": [
    {
     "name": "stdout",
     "output_type": "stream",
     "text": [
      "['Excel', 'Python', 'Tableau', 'Power BI', 'Domo', 'Google Sheet', 'Stata']\n"
     ]
    }
   ],
   "source": [
    "print(data_tools)"
   ]
  },
  {
   "cell_type": "code",
   "execution_count": 47,
   "id": "660007f1",
   "metadata": {},
   "outputs": [
    {
     "name": "stdout",
     "output_type": "stream",
     "text": [
      "[5, 8.0, 10, 15, 35, 40, 56, 62, 70, 85, 89]\n"
     ]
    }
   ],
   "source": [
    "numbers.sort()\n",
    "print(numbers)"
   ]
  },
  {
   "cell_type": "code",
   "execution_count": 48,
   "id": "a2a112ba",
   "metadata": {},
   "outputs": [],
   "source": [
    "numbers.extend(string)"
   ]
  },
  {
   "cell_type": "code",
   "execution_count": 49,
   "id": "d707ed31",
   "metadata": {},
   "outputs": [
    {
     "name": "stdout",
     "output_type": "stream",
     "text": [
      "[5, 8.0, 10, 15, 35, 40, 56, 62, 70, 85, 89, 'men', 'girls', 'boys', 'women', 'gender']\n"
     ]
    }
   ],
   "source": [
    "print(numbers)"
   ]
  },
  {
   "cell_type": "code",
   "execution_count": 50,
   "id": "edce746a",
   "metadata": {},
   "outputs": [],
   "source": [
    "numbers.reverse()"
   ]
  },
  {
   "cell_type": "code",
   "execution_count": 51,
   "id": "656e02f4",
   "metadata": {},
   "outputs": [
    {
     "name": "stdout",
     "output_type": "stream",
     "text": [
      "['gender', 'women', 'boys', 'girls', 'men', 89, 85, 70, 62, 56, 40, 35, 15, 10, 8.0, 5]\n"
     ]
    }
   ],
   "source": [
    "print(numbers)"
   ]
  },
  {
   "cell_type": "code",
   "execution_count": 52,
   "id": "af709d69",
   "metadata": {},
   "outputs": [],
   "source": [
    "numbers.remove('gender')"
   ]
  },
  {
   "cell_type": "code",
   "execution_count": 53,
   "id": "8f1764ba",
   "metadata": {},
   "outputs": [
    {
     "name": "stdout",
     "output_type": "stream",
     "text": [
      "['women', 'boys', 'girls', 'men', 89, 85, 70, 62, 56, 40, 35, 15, 10, 8.0, 5]\n"
     ]
    }
   ],
   "source": [
    "print(numbers)"
   ]
  },
  {
   "cell_type": "code",
   "execution_count": 54,
   "id": "2486422e",
   "metadata": {},
   "outputs": [],
   "source": [
    "string.clear()"
   ]
  },
  {
   "cell_type": "code",
   "execution_count": 55,
   "id": "0a3d62eb",
   "metadata": {},
   "outputs": [
    {
     "data": {
      "text/plain": [
       "[]"
      ]
     },
     "execution_count": 55,
     "metadata": {},
     "output_type": "execute_result"
    }
   ],
   "source": [
    "string"
   ]
  },
  {
   "cell_type": "code",
   "execution_count": 56,
   "id": "ce5c71ea",
   "metadata": {},
   "outputs": [],
   "source": [
    "#Python Functions"
   ]
  },
  {
   "cell_type": "code",
   "execution_count": 57,
   "id": "f96f74cd",
   "metadata": {},
   "outputs": [],
   "source": [
    "whole = [25,62,74,56,12,45]"
   ]
  },
  {
   "cell_type": "code",
   "execution_count": 58,
   "id": "df5443e0",
   "metadata": {},
   "outputs": [
    {
     "data": {
      "text/plain": [
       "12"
      ]
     },
     "execution_count": 58,
     "metadata": {},
     "output_type": "execute_result"
    }
   ],
   "source": [
    "min_value = min(whole)\n",
    "min_value"
   ]
  },
  {
   "cell_type": "code",
   "execution_count": 59,
   "id": "87af6b05",
   "metadata": {},
   "outputs": [
    {
     "data": {
      "text/plain": [
       "74"
      ]
     },
     "execution_count": 59,
     "metadata": {},
     "output_type": "execute_result"
    }
   ],
   "source": [
    "max_value = max(whole)\n",
    "max_value"
   ]
  },
  {
   "cell_type": "code",
   "execution_count": 60,
   "id": "054f768e",
   "metadata": {},
   "outputs": [
    {
     "data": {
      "text/plain": [
       "6"
      ]
     },
     "execution_count": 60,
     "metadata": {},
     "output_type": "execute_result"
    }
   ],
   "source": [
    "count = len(whole)\n",
    "count"
   ]
  },
  {
   "cell_type": "code",
   "execution_count": 61,
   "id": "219b0829",
   "metadata": {},
   "outputs": [
    {
     "data": {
      "text/plain": [
       "274"
      ]
     },
     "execution_count": 61,
     "metadata": {},
     "output_type": "execute_result"
    }
   ],
   "source": [
    "total = sum(whole)\n",
    "total"
   ]
  },
  {
   "cell_type": "code",
   "execution_count": 62,
   "id": "c8f6090f",
   "metadata": {},
   "outputs": [
    {
     "name": "stdout",
     "output_type": "stream",
     "text": [
      "Mean is : 45\n"
     ]
    }
   ],
   "source": [
    "mean_value = total / count\n",
    "\n",
    "print('Mean is :',int(mean_value))"
   ]
  },
  {
   "cell_type": "markdown",
   "id": "5b7c08c0",
   "metadata": {},
   "source": [
    "PYTHON TUPLES"
   ]
  },
  {
   "cell_type": "code",
   "execution_count": 63,
   "id": "532c99a4",
   "metadata": {},
   "outputs": [],
   "source": [
    "my_tuple = (25,55,16.7,85,100,120,12)\n",
    "mt = ('man is good', 'Jesus is lord', 'I will be great')"
   ]
  },
  {
   "cell_type": "code",
   "execution_count": 64,
   "id": "af164627",
   "metadata": {},
   "outputs": [
    {
     "name": "stdout",
     "output_type": "stream",
     "text": [
      "('man is good', 'Jesus is lord', 'I will be great')\n"
     ]
    }
   ],
   "source": [
    "print(mt)"
   ]
  },
  {
   "cell_type": "code",
   "execution_count": 65,
   "id": "81bce35d",
   "metadata": {},
   "outputs": [
    {
     "data": {
      "text/plain": [
       "[12, 16.7, 25, 55, 85, 100, 120]"
      ]
     },
     "execution_count": 65,
     "metadata": {},
     "output_type": "execute_result"
    }
   ],
   "source": [
    "sorted(my_tuple)"
   ]
  },
  {
   "cell_type": "code",
   "execution_count": 66,
   "id": "75897367",
   "metadata": {},
   "outputs": [
    {
     "data": {
      "text/plain": [
       "(55, 16.7)"
      ]
     },
     "execution_count": 66,
     "metadata": {},
     "output_type": "execute_result"
    }
   ],
   "source": [
    "#slicing tuples\n",
    "\n",
    "my_tuple[1:3]"
   ]
  },
  {
   "cell_type": "code",
   "execution_count": 67,
   "id": "9cc15646",
   "metadata": {},
   "outputs": [],
   "source": [
    "# Unpacking Tuples - converting tuples to different variables\n",
    "\n",
    "a,b, c = mt"
   ]
  },
  {
   "cell_type": "code",
   "execution_count": 68,
   "id": "4139f4da",
   "metadata": {},
   "outputs": [
    {
     "name": "stdout",
     "output_type": "stream",
     "text": [
      "man is good\n",
      "Jesus is lord\n",
      "I will be great\n"
     ]
    }
   ],
   "source": [
    "print(a)\n",
    "print(b)\n",
    "print(c)"
   ]
  },
  {
   "cell_type": "markdown",
   "id": "03511a9a",
   "metadata": {},
   "source": [
    "PYTHON DICTIONARIES"
   ]
  },
  {
   "cell_type": "code",
   "execution_count": 69,
   "id": "48fe26cb",
   "metadata": {},
   "outputs": [],
   "source": [
    "Data = {'Excel':'Microsoft','Google':'Spreedsheet','Power BI':'Microsoft','Iphone':'Apple','Macbook':'Apple', 'Tableau':'Business Intelligence'}"
   ]
  },
  {
   "cell_type": "code",
   "execution_count": 70,
   "id": "c1bf96f9",
   "metadata": {},
   "outputs": [
    {
     "data": {
      "text/plain": [
       "{'Excel': 'Microsoft',\n",
       " 'Google': 'Spreedsheet',\n",
       " 'Power BI': 'Microsoft',\n",
       " 'Iphone': 'Apple',\n",
       " 'Macbook': 'Apple',\n",
       " 'Tableau': 'Business Intelligence'}"
      ]
     },
     "execution_count": 70,
     "metadata": {},
     "output_type": "execute_result"
    }
   ],
   "source": [
    "Data"
   ]
  },
  {
   "cell_type": "code",
   "execution_count": 71,
   "id": "85f2d841",
   "metadata": {},
   "outputs": [
    {
     "data": {
      "text/plain": [
       "'Microsoft'"
      ]
     },
     "execution_count": 71,
     "metadata": {},
     "output_type": "execute_result"
    }
   ],
   "source": [
    "#Accessing dictionaries\n",
    "\n",
    "Data['Excel']"
   ]
  },
  {
   "cell_type": "code",
   "execution_count": 72,
   "id": "39a797f5",
   "metadata": {},
   "outputs": [
    {
     "data": {
      "text/plain": [
       "'Apple'"
      ]
     },
     "execution_count": 72,
     "metadata": {},
     "output_type": "execute_result"
    }
   ],
   "source": [
    "Data.get(\"Iphone\")"
   ]
  },
  {
   "cell_type": "code",
   "execution_count": 73,
   "id": "563d741a",
   "metadata": {},
   "outputs": [],
   "source": [
    "# Updating and modifying dictinaries"
   ]
  },
  {
   "cell_type": "code",
   "execution_count": 74,
   "id": "4a71dc31",
   "metadata": {},
   "outputs": [],
   "source": [
    "Data['Spss'] = 'Statistical tool'"
   ]
  },
  {
   "cell_type": "code",
   "execution_count": 75,
   "id": "531a0891",
   "metadata": {},
   "outputs": [],
   "source": [
    "Data['SQL'] = 'Database tool'"
   ]
  },
  {
   "cell_type": "code",
   "execution_count": 76,
   "id": "933be67a",
   "metadata": {},
   "outputs": [
    {
     "name": "stdout",
     "output_type": "stream",
     "text": [
      "{'Excel': 'Microsoft', 'Google': 'Spreedsheet', 'Power BI': 'Microsoft', 'Iphone': 'Apple', 'Macbook': 'Apple', 'Tableau': 'Business Intelligence', 'Spss': 'Statistical tool', 'SQL': 'Database tool'}\n"
     ]
    }
   ],
   "source": [
    "print(Data)"
   ]
  },
  {
   "cell_type": "code",
   "execution_count": 77,
   "id": "9878ba6c",
   "metadata": {},
   "outputs": [],
   "source": [
    "Data['Power BI']= \"Microsoft Tool\"\n",
    "Data['Google'] = 'Google Sheets'"
   ]
  },
  {
   "cell_type": "code",
   "execution_count": 78,
   "id": "a3b3397e",
   "metadata": {},
   "outputs": [
    {
     "data": {
      "text/plain": [
       "{'Excel': 'Microsoft',\n",
       " 'Google': 'Google Sheets',\n",
       " 'Power BI': 'Microsoft Tool',\n",
       " 'Iphone': 'Apple',\n",
       " 'Macbook': 'Apple',\n",
       " 'Tableau': 'Business Intelligence',\n",
       " 'Spss': 'Statistical tool',\n",
       " 'SQL': 'Database tool'}"
      ]
     },
     "execution_count": 78,
     "metadata": {},
     "output_type": "execute_result"
    }
   ],
   "source": [
    "Data"
   ]
  },
  {
   "cell_type": "code",
   "execution_count": 79,
   "id": "bd473df6",
   "metadata": {},
   "outputs": [],
   "source": [
    "# combining two dictionaries into one\n",
    "\n",
    "Tools = {'Power Query': 'Excel', 'Power Pivot':\"Excel\", 'Pandas':'Python'}"
   ]
  },
  {
   "cell_type": "code",
   "execution_count": 80,
   "id": "fc811c83",
   "metadata": {},
   "outputs": [],
   "source": [
    "Data.update(Tools)"
   ]
  },
  {
   "cell_type": "code",
   "execution_count": 81,
   "id": "1492f89c",
   "metadata": {},
   "outputs": [
    {
     "data": {
      "text/plain": [
       "{'Excel': 'Microsoft',\n",
       " 'Google': 'Google Sheets',\n",
       " 'Power BI': 'Microsoft Tool',\n",
       " 'Iphone': 'Apple',\n",
       " 'Macbook': 'Apple',\n",
       " 'Tableau': 'Business Intelligence',\n",
       " 'Spss': 'Statistical tool',\n",
       " 'SQL': 'Database tool',\n",
       " 'Power Query': 'Excel',\n",
       " 'Power Pivot': 'Excel',\n",
       " 'Pandas': 'Python'}"
      ]
     },
     "execution_count": 81,
     "metadata": {},
     "output_type": "execute_result"
    }
   ],
   "source": [
    "Data"
   ]
  },
  {
   "cell_type": "code",
   "execution_count": 82,
   "id": "dadd47a5",
   "metadata": {},
   "outputs": [
    {
     "data": {
      "text/plain": [
       "'Excel'"
      ]
     },
     "execution_count": 82,
     "metadata": {},
     "output_type": "execute_result"
    }
   ],
   "source": [
    "# Dictionary Methods\n",
    "\n",
    "Data.pop('Power Pivot')"
   ]
  },
  {
   "cell_type": "code",
   "execution_count": 83,
   "id": "0fca86f9",
   "metadata": {},
   "outputs": [
    {
     "name": "stdout",
     "output_type": "stream",
     "text": [
      "{'Excel': 'Microsoft', 'Google': 'Google Sheets', 'Power BI': 'Microsoft Tool', 'Iphone': 'Apple', 'Macbook': 'Apple', 'Tableau': 'Business Intelligence', 'Spss': 'Statistical tool', 'SQL': 'Database tool', 'Power Query': 'Excel', 'Pandas': 'Python'}\n"
     ]
    }
   ],
   "source": [
    "print(Data)"
   ]
  },
  {
   "cell_type": "code",
   "execution_count": 84,
   "id": "de658d5c",
   "metadata": {},
   "outputs": [
    {
     "data": {
      "text/plain": [
       "dict_keys(['Excel', 'Google', 'Power BI', 'Iphone', 'Macbook', 'Tableau', 'Spss', 'SQL', 'Power Query', 'Pandas'])"
      ]
     },
     "execution_count": 84,
     "metadata": {},
     "output_type": "execute_result"
    }
   ],
   "source": [
    "Data.keys()"
   ]
  },
  {
   "cell_type": "code",
   "execution_count": 85,
   "id": "07107e8d",
   "metadata": {},
   "outputs": [
    {
     "data": {
      "text/plain": [
       "dict_values(['Microsoft', 'Google Sheets', 'Microsoft Tool', 'Apple', 'Apple', 'Business Intelligence', 'Statistical tool', 'Database tool', 'Excel', 'Python'])"
      ]
     },
     "execution_count": 85,
     "metadata": {},
     "output_type": "execute_result"
    }
   ],
   "source": [
    "Data.values()"
   ]
  },
  {
   "cell_type": "code",
   "execution_count": 86,
   "id": "768c461d",
   "metadata": {},
   "outputs": [
    {
     "data": {
      "text/plain": [
       "dict_items([('Excel', 'Microsoft'), ('Google', 'Google Sheets'), ('Power BI', 'Microsoft Tool'), ('Iphone', 'Apple'), ('Macbook', 'Apple'), ('Tableau', 'Business Intelligence'), ('Spss', 'Statistical tool'), ('SQL', 'Database tool'), ('Power Query', 'Excel'), ('Pandas', 'Python')])"
      ]
     },
     "execution_count": 86,
     "metadata": {},
     "output_type": "execute_result"
    }
   ],
   "source": [
    "Data.items()"
   ]
  },
  {
   "cell_type": "code",
   "execution_count": 87,
   "id": "2f6d978b",
   "metadata": {},
   "outputs": [],
   "source": [
    "# dictionary functions\n",
    "ghana_popul = {'Accra': 15000,'Kumasi':14500,'Kasoa':12050,'Tarkwa': 9000,\"Ho\": 8500, 'Takoradi': 11500}\n"
   ]
  },
  {
   "cell_type": "code",
   "execution_count": 88,
   "id": "bded23fa",
   "metadata": {},
   "outputs": [
    {
     "data": {
      "text/plain": [
       "['Accra', 'Ho', 'Kasoa', 'Kumasi', 'Takoradi', 'Tarkwa']"
      ]
     },
     "execution_count": 88,
     "metadata": {},
     "output_type": "execute_result"
    }
   ],
   "source": [
    "sorted(ghana_popul)"
   ]
  },
  {
   "cell_type": "code",
   "execution_count": 89,
   "id": "481322cd",
   "metadata": {},
   "outputs": [
    {
     "data": {
      "text/plain": [
       "'Accra'"
      ]
     },
     "execution_count": 89,
     "metadata": {},
     "output_type": "execute_result"
    }
   ],
   "source": [
    "min(ghana_popul)"
   ]
  },
  {
   "cell_type": "code",
   "execution_count": 90,
   "id": "4c04d83a",
   "metadata": {},
   "outputs": [
    {
     "data": {
      "text/plain": [
       "8500"
      ]
     },
     "execution_count": 90,
     "metadata": {},
     "output_type": "execute_result"
    }
   ],
   "source": [
    "min(ghana_popul.values())"
   ]
  },
  {
   "cell_type": "code",
   "execution_count": 91,
   "id": "f78c3c18",
   "metadata": {},
   "outputs": [
    {
     "data": {
      "text/plain": [
       "15000"
      ]
     },
     "execution_count": 91,
     "metadata": {},
     "output_type": "execute_result"
    }
   ],
   "source": [
    "max(ghana_popul.values())"
   ]
  },
  {
   "cell_type": "code",
   "execution_count": 92,
   "id": "4c21b564",
   "metadata": {},
   "outputs": [
    {
     "name": "stdout",
     "output_type": "stream",
     "text": [
      "Accra 15000\n"
     ]
    }
   ],
   "source": [
    "print(max(ghana_popul,key=ghana_popul.get),max(ghana_popul.values()))"
   ]
  },
  {
   "cell_type": "markdown",
   "id": "236b3e23",
   "metadata": {},
   "source": [
    "# Conditional Statments"
   ]
  },
  {
   "cell_type": "code",
   "execution_count": 93,
   "id": "49203c36",
   "metadata": {},
   "outputs": [],
   "source": [
    "# the If Statement"
   ]
  },
  {
   "cell_type": "code",
   "execution_count": 94,
   "id": "0949cb4c",
   "metadata": {},
   "outputs": [
    {
     "name": "stdout",
     "output_type": "stream",
     "text": [
      "This is a boy\n"
     ]
    }
   ],
   "source": [
    "gender = 'boy'\n",
    "\n",
    "if gender == 'boy':\n",
    "    print('This is a boy')"
   ]
  },
  {
   "cell_type": "code",
   "execution_count": 95,
   "id": "634e2b8a",
   "metadata": {},
   "outputs": [
    {
     "name": "stdout",
     "output_type": "stream",
     "text": [
      "pass mark\n"
     ]
    }
   ],
   "source": [
    "mark = 65\n",
    "\n",
    "if mark >= 60:\n",
    "    print('pass mark')"
   ]
  },
  {
   "cell_type": "code",
   "execution_count": 96,
   "id": "ed964ad8",
   "metadata": {},
   "outputs": [
    {
     "name": "stdout",
     "output_type": "stream",
     "text": [
      "Yes\n"
     ]
    }
   ],
   "source": [
    "#logical operators with else and elif\n",
    "\n",
    "location = 'Accra'\n",
    "name = ['Zion','David','James']\n",
    "\n",
    "if 'James' in name or location == 'Kumasi':\n",
    "    print(\"Yes\")"
   ]
  },
  {
   "cell_type": "code",
   "execution_count": 97,
   "id": "74a79fa8",
   "metadata": {},
   "outputs": [
    {
     "name": "stdout",
     "output_type": "stream",
     "text": [
      "Yes\n"
     ]
    }
   ],
   "source": [
    "if 'Zion' in name and location == 'Accra':\n",
    "    print(\"Yes\")"
   ]
  },
  {
   "cell_type": "code",
   "execution_count": 98,
   "id": "0bba4753",
   "metadata": {},
   "outputs": [
    {
     "name": "stdout",
     "output_type": "stream",
     "text": [
      "not a student\n"
     ]
    }
   ],
   "source": [
    "if 'John' in name:\n",
    "    print('is a student')\n",
    "else:     \n",
    "    print(\"not a student\")"
   ]
  },
  {
   "cell_type": "code",
   "execution_count": 104,
   "id": "4dfb7ddd",
   "metadata": {},
   "outputs": [
    {
     "name": "stdout",
     "output_type": "stream",
     "text": [
      "Grade; C\n"
     ]
    }
   ],
   "source": [
    "exams_score = 65\n",
    "mid_term_score = 0\n",
    "\n",
    "if exams_score >= 80:\n",
    "    print('Grade;''A')\n",
    "    \n",
    "elif exams_score >= 70:\n",
    "    print('Grade;','B')\n",
    "\n",
    "elif exams_score >= 60:\n",
    "    print('Grade;','C')\n",
    "    \n",
    "elif mid_term_score == 30:\n",
    "    print('pass')\n",
    "    \n",
    "else:\n",
    "    print('Fail')\n",
    "    "
   ]
  },
  {
   "cell_type": "markdown",
   "id": "52b63383",
   "metadata": {},
   "source": [
    "Task 1"
   ]
  },
  {
   "cell_type": "code",
   "execution_count": 105,
   "id": "ec9ca08a",
   "metadata": {},
   "outputs": [],
   "source": [
    "# Grade Calculator"
   ]
  },
  {
   "cell_type": "code",
   "execution_count": 107,
   "id": "65ba287f",
   "metadata": {},
   "outputs": [
    {
     "name": "stdout",
     "output_type": "stream",
     "text": [
      "Enter the student's score (out of 100): 90\n",
      "The student's grade is: A\n"
     ]
    }
   ],
   "source": [
    "def calculate_grade(score):\n",
    "    # Write your conditional statements here to calculate the grade\n",
    "    if score >= 90:\n",
    "        grade = \"A\"\n",
    "    elif score >= 80:\n",
    "        grade = \"B\"\n",
    "    elif score >= 70:\n",
    "        grade = \"C\"\n",
    "    elif score >= 60:\n",
    "        grade = \"D\"\n",
    "    else:\n",
    "        grade = \"F\"\n",
    "    \n",
    "    return grade\n",
    "\n",
    "# Get input from the user\n",
    "try:\n",
    "    score = float(input(\"Enter the student's score (out of 100): \"))\n",
    "    if 0 <= score <= 100:\n",
    "        grade = calculate_grade(score)\n",
    "        print(f\"The student's grade is: {grade}\")\n",
    "    else:\n",
    "        print(\"Please enter a valid score between 0 and 100.\")\n",
    "except ValueError:\n",
    "    print(\"Invalid input. Please enter a numerical value.\")\n"
   ]
  }
 ],
 "metadata": {
  "kernelspec": {
   "display_name": "Python 3 (ipykernel)",
   "language": "python",
   "name": "python3"
  },
  "language_info": {
   "codemirror_mode": {
    "name": "ipython",
    "version": 3
   },
   "file_extension": ".py",
   "mimetype": "text/x-python",
   "name": "python",
   "nbconvert_exporter": "python",
   "pygments_lexer": "ipython3",
   "version": "3.11.4"
  }
 },
 "nbformat": 4,
 "nbformat_minor": 5
}
