{
 "cells": [
  {
   "cell_type": "markdown",
   "id": "524d3d2b",
   "metadata": {},
   "source": [
    "## Reading/Importing files from a folder and then combining to get a single file"
   ]
  },
  {
   "cell_type": "code",
   "execution_count": null,
   "id": "e6ab1f2c",
   "metadata": {},
   "outputs": [],
   "source": [
    "folder_path = \"Sales_Data\"     # specify your folder path\n",
    "files = os.listdir(folder_path)\n",
    "csv_files = [file for file in files if file.endswith('.csv')]  # check the extension of files eg .xlsx or .csv\n",
    "\n",
    "all_data = pd.DataFrame()\n",
    "for csv_file in csv_files:\n",
    "    file_path = os.path.join(folder_path, csv_file)\n",
    "    df = pd.read_csv(file_path)\n",
    "    all_data = pd.concat([all_data, df])    # concatenating the files into one file\n",
    "    \n",
    "all_data.to_csv(\"Combined_Sales_Data.csv\", index=False)  # saving your combined data"
   ]
  }
 ],
 "metadata": {
  "kernelspec": {
   "display_name": "Python 3 (ipykernel)",
   "language": "python",
   "name": "python3"
  },
  "language_info": {
   "codemirror_mode": {
    "name": "ipython",
    "version": 3
   },
   "file_extension": ".py",
   "mimetype": "text/x-python",
   "name": "python",
   "nbconvert_exporter": "python",
   "pygments_lexer": "ipython3",
   "version": "3.11.4"
  }
 },
 "nbformat": 4,
 "nbformat_minor": 5
}
